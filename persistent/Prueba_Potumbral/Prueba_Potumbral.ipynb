{
  "nbformat": 4,
  "nbformat_minor": 0,
  "metadata": {
    "colab": {
      "provenance": []
    },
    "kernelspec": {
      "name": "python3",
      "display_name": "Python 3"
    },
    "language_info": {
      "name": "python"
    }
  },
  "cells": [
    {
      "cell_type": "code",
      "execution_count": null,
      "metadata": {
        "id": "mq_M718-6mH5"
      },
      "outputs": [],
      "source": [
        "import numpy as np\n",
        "import math\n",
        "import random"
      ]
    },
    {
      "cell_type": "code",
      "source": [
        "#Función que genera un .txt con tantas líneas como se indique donde cada línea tendrá tantos números complejos como se indique (por defecto, 1000 valores por linea,\n",
        "#que es la cantidad de valores en 20ms con sample rate 50k)\n",
        "def generate_and_save_complex_numbers(file_path, num_lines, num_complex_numbers_per_line=1000, type='random'):\n",
        "  with open(file_path, \"w\") as file:\n",
        "\n",
        "    if type == 'random': # Se define el archivo con num_lines lineas, cada una con num_complex_numbers_per_line valores aleatorios.\n",
        "      for line_number in range(0, num_lines):\n",
        "        complex_numbers = [np.round(complex(random.uniform(-1*0.001, 1*0.001), random.uniform(-1*0.001, 1*0.001)), decimals=3) for _ in range(num_complex_numbers_per_line)]\n",
        "        for num in complex_numbers:\n",
        "            file.write(f\"{num}\\n\")\n",
        "        #file.write(\"\\n\")\n",
        "\n",
        "    else:\n",
        "      if type == 'probar20ms1': # Se define el archivo con num_lines lineas, cada una con 1000 muestras (correspondientes a 20 ms). Cada subintervalo de 20ms\n",
        "                             # tendra un valor 0.1 mayor al anterior (en ambas componentes, compleja y real),\n",
        "                             # iniciando en cero. Nos interesa probar que se calcula de forma correcta el promedio\n",
        "                             # en cada subintervalo de 20 ms\n",
        "        ant = 0\n",
        "        for line_number in range(0, num_lines):\n",
        "          complex_numbers = [np.round(complex(0.001+ant, 0.001+ant), decimals=3) for _ in range(num_complex_numbers_per_line)]\n",
        "          for num in complex_numbers:\n",
        "            file.write(f\"{num}\\n\")\n",
        "            ### primero probamos con todos los valores de 20ms iguales, y luego podemos tener los primeros 10ms de un subintervalo con cierto valor, y los\n",
        "            ### segundos 10ms de otro valor, esto para probar que los promedios intervalos\n",
        "          ant = ant + 0.001\n",
        "\n",
        "      else:\n",
        "        if type == 'probar20ms2': # para tener en cada intervalo de 20ms con unos primeros 10ms de un valor X y los segundos 10ms de un valor Y\n",
        "          ant = 0\n",
        "          for line_number in range(0, num_lines):\n",
        "            complex_numbers = [np.round(complex(0.001+ant, 0.001+ant), decimals=3) for _ in range(int(num_complex_numbers_per_line/2))]\n",
        "            for num in complex_numbers:\n",
        "              file.write(f\"{num}\\n\")\n",
        "            complex_numbers = [np.round(complex(0.002+ant, 0.002+ant), decimals=3) for _ in range(int(num_complex_numbers_per_line/2))]\n",
        "            for num in complex_numbers:\n",
        "              file.write(f\"{num}\\n\")\n",
        "\n",
        "            ant = ant + 0.002\n",
        "        else:\n",
        "          if type == 'probar4s1': # cada subintervalo de 20 ms tiene siempre el mismo valor, y en los 200 subintervalos, los valores van aumentando\n",
        "            ant = 0\n",
        "            for line_number in range(0, num_lines):\n",
        "              complex_numbers = [np.round(complex(0.001+ant, 0.001+ant), decimals=3) for _ in range(num_complex_numbers_per_line)]\n",
        "              for num in complex_numbers:\n",
        "                file.write(f\"{num}\\n\")\n",
        "              ant = ant + 0.001\n",
        "          else:\n",
        "            if type == 'probar4s2': # cada subintervalo de 20 ms tiene siempre el mismo valor, pero estos valores fijos van disminuyendo en los primeros 300\n",
        "                                    # subintervalos, y luego van aumentando.\n",
        "\n",
        "              ant = 0.001*800 #valor inicial, que es maximo, porque vamos disminuyendo\n",
        "              for line_number in range(0, int(num_lines/2)):\n",
        "                complex_numbers = [np.round(complex(ant-0.001, ant-0.001), decimals=3) for _ in range(num_complex_numbers_per_line)]\n",
        "                for num in complex_numbers:\n",
        "                  file.write(f\"{num}\\n\")\n",
        "                ant = ant-0.001\n",
        "              for line_number in range(0, int(num_lines/2)):\n",
        "                complex_numbers = [np.round(complex(ant+0.001, ant+0.001), decimals=3) for _ in range(num_complex_numbers_per_line)]\n",
        "                for num in complex_numbers:\n",
        "                  file.write(f\"{num}\\n\")\n",
        "                ant = ant+0.001\n",
        "            else:\n",
        "              if type == 'probar1min':\n",
        "                ant = 0.001\n",
        "                for line_number in range(0, num_lines):\n",
        "                  if line_number % 200 == 0 and line_number != 0:\n",
        "                    ant = ant + 0.001 # cada 200 intervalos de 20 ms, que son 4 s, cambio el valor. Esto es,\n",
        "                                      # todos los intervalos de 4 s tienen todos los valores iguales\n",
        "                  complex_numbers = [np.round(complex(ant, ant), decimals=3) for _ in range(num_complex_numbers_per_line)]\n",
        "                  for num in complex_numbers:\n",
        "                    file.write(f\"{num}\\n\")\n",
        "              else:\n",
        "                if type == 'probar1min_2':\n",
        "                  ant = 0.001\n",
        "                  for line_number in range(0, int(num_lines/2)):\n",
        "                    if line_number % 200 == 0 and line_number != 0:\n",
        "                      ant = ant + 0.001 # cada 200 intervalos de 20 ms, que son 4 s, cambio el valor. Esto es,\n",
        "                                      # todos los intervalos de 4 s tienen todos los valores iguales\n",
        "                    complex_numbers = [np.round(complex(ant, ant), decimals=3) for _ in range(num_complex_numbers_per_line)]\n",
        "                    for num in complex_numbers:\n",
        "                      file.write(f\"{num}\\n\")\n",
        "\n",
        "                  for line_number in range(0, int(num_lines/2)):\n",
        "                    if line_number % 200 == 0 and line_number != 0:\n",
        "                      ant = ant - 0.001 # cada 200 intervalos de 20 ms, que son 4 s, cambio el valor. Esto es,\n",
        "                                      # todos los intervalos de 4 s tienen todos los valores iguales\n",
        "                    complex_numbers = [np.round(complex(ant, ant), decimals=3) for _ in range(num_complex_numbers_per_line)]\n",
        "                    for num in complex_numbers:\n",
        "                      file.write(f\"{num}\\n\")"
      ],
      "metadata": {
        "id": "CbIxGRC367e7"
      },
      "execution_count": null,
      "outputs": []
    },
    {
      "cell_type": "markdown",
      "source": [
        "### Función para calcular la potencia actual y el umbral"
      ],
      "metadata": {
        "id": "MHiWO9JU3e68"
      }
    },
    {
      "cell_type": "code",
      "source": [
        "def potumbral_muestra(muestra_actual, umbral, N_muestras, subintervalos, pow_4s, pow_minuto, arr_pow_actual, N):\n",
        "  power = np.abs(muestra_actual)**2 #Paso la muestra actual compleja a un real con la potencia del complejo. Esto permite acumular\n",
        "                                    #las muestras por un periodo de tiempo arbitrario (que definimos como 1ms) y luego tomar un promedio\n",
        "                                    #para obtener la potencia atual del canal.\n",
        "\n",
        "  #Para tomar el promedio de la potencia actual en el canal se toma un \"promedio movil\". En el for se rotan los valores del arreglo un\n",
        "  #lugar para la derecha excepto el primero que se va a sobreescribir. Si por ejemplo en el arreglo teniamos arr=[1, 2, 3, 4] despues\n",
        "  #del for va a quedar arr=[1,1,2,3]. Después se sobreescribe el primer elemento y se vuelve a calcular el promedio.\n",
        "  for i in range(len(arr_pow_actual) - 1, 0, -1):\n",
        "    arr_pow_actual[i] = arr_pow_actual[i - 1]\n",
        "\n",
        "  arr_pow_actual[0] = power\n",
        "\n",
        "  pow_actual = np.mean(arr_pow_actual) #La potencia actual del canal es el promedio de la potencia del ultimo ms del canal\n",
        "\n",
        "  umbral_actual = (10*math.log10(umbral)) + 10 #Se le suma 10dB al umbral, el umbral actual es el ultimo calculado que se actualiza cada 4s.\n",
        "\n",
        "  umb_y_pow_actual = np.zeros(2)\n",
        "  umb_y_pow_actual[0] = umbral_actual\n",
        "  umb_y_pow_actual[1] = pow_actual\n",
        "\n",
        "  salida = umb_y_pow_actual #Se setea el parametro que se utilizara como salida, se saca siempre un arreglo con 2 elementos, umbral y potencia\n",
        "                            #actuales (en ese orden).\n",
        "\n",
        "  N_muestras = np.append(N_muestras, power) #Se acumulan las 1000 muestras para formar los 20ms, esto se acumula independientemente del calculo\n",
        "                                            #de la potencia actual del canal.\n",
        "  N = N - 1\n",
        "  if N == 0: #Si ya acumule la potencia de los ultimos 20 ms.\n",
        "    pow_avg = np.mean(N_muestras) #Los 200 valores de potencia que se acumulan para formar los 4s es el promedio de los 20ms.\n",
        "    N_muestras = []\n",
        "    N = 1000\n",
        "    pow_4s[subintervalos] = pow_avg #Se acumulan los 200 valores de potencia para llegar a 4s.\n",
        "    subintervalos += 1\n",
        "    #print(pow_avg) ### prints utilizados para probar 20 ms\n",
        "    #print(pow_4s)  ### prints utilizados para probar 20 ms\n",
        "  if subintervalos == 200: #Si completé los 200 subintervalos de 20ms tengo 4s y agarro el mínimo de eso.\n",
        "    po_4 = np.min(pow_4s)\n",
        "    #El umbral del canal se actualiza cada 4s y esto se hace tomando el minimo entre los ultimos 15 valores de 4s de potencia que se acumularon. En otras palabras, en el ultimo minuto se acumulan 15 muestras de potencia de 4s, se toma entonces el minimo de esas 15 como el nuevo valor de umbral. Para actualizar cuales son los ultimos 15 valores de 4s, se hace el mismo procedimiento con el for que con arr_pow_actual, o sea, se shiftea todo el arreglo un lugar para la derecha excepto la primera posicion y se sobreescribe dicho valor.\n",
        "    for i in range(len(pow_minuto) - 1, 0, -1):\n",
        "      pow_minuto[i] = pow_minuto[i - 1]\n",
        "\n",
        "    pow_minuto[0] = po_4\n",
        "    umbral = np.min(pow_minuto)\n",
        "    if umbral < 2e-14: #Si la potencia es menor a -107dBm se pone en -107dBm.\n",
        "      umbral = 2e-14\n",
        "    elif umbral > 1.9e-4: #Si la potencia es mayor a -7dBm se pone en -7dBm.\n",
        "      umbral = 1.9e-4\n",
        "    subintervalos = 0\n",
        "    print(po_4)\n",
        "    print(umbral)\n",
        "    print(pow_minuto)\n",
        "    print('------')\n",
        "  return(umbral, N_muestras, subintervalos, pow_4s, pow_minuto, arr_pow_actual, N)"
      ],
      "metadata": {
        "id": "2g_8proS67KL"
      },
      "execution_count": null,
      "outputs": []
    },
    {
      "cell_type": "markdown",
      "source": [
        "## Prueba de intervalos de a 20 ms"
      ],
      "metadata": {
        "id": "sUFM0wSN3lv4"
      }
    },
    {
      "cell_type": "markdown",
      "source": [
        "### Prueba 1"
      ],
      "metadata": {
        "id": "-LDaVwCf5Tdt"
      }
    },
    {
      "cell_type": "markdown",
      "source": [
        "Se prueba en primer lugar que se calcule de forma correcta el promedio de cada intervalo de 20 ms. Cada intervalo de 20 ms tiene siempre el mismo valor (por ejemplo, [0,1; 0,1; 0,1; ...]), con el fin de saber el resultado del promedio para cada uno."
      ],
      "metadata": {
        "id": "bmeoEWDH3qyp"
      }
    },
    {
      "cell_type": "code",
      "source": [
        "generate_and_save_complex_numbers(\"complex_numbers20ms_1.txt\", num_lines=3, type='probar20ms1')"
      ],
      "metadata": {
        "id": "FUzi5BGP67c_"
      },
      "execution_count": null,
      "outputs": []
    },
    {
      "cell_type": "code",
      "source": [
        "#Cada línea tendrá guardada 1000 muestras que equivalen a 20ms.\n",
        "with open(r'complex_numbers20ms_1.txt') as f:\n",
        "    lines = f.readlines()"
      ],
      "metadata": {
        "id": "FdJEhxrwEX-t"
      },
      "execution_count": null,
      "outputs": []
    },
    {
      "cell_type": "code",
      "source": [
        "# las lineas del .txt quedan definidas como strings. Es necesario pasarlas a\n",
        "print(len(lines))\n",
        "largo = len(lines[0])\n",
        "print(complex(lines[0]))"
      ],
      "metadata": {
        "colab": {
          "base_uri": "https://localhost:8080/"
        },
        "id": "Fqtkdeh8Lm8a",
        "outputId": "0cd3e5e1-093b-403a-a14a-3bee6cd8835e"
      },
      "execution_count": null,
      "outputs": [
        {
          "output_type": "stream",
          "name": "stdout",
          "text": [
            "3000\n",
            "(0.001+0.001j)\n"
          ]
        }
      ]
    },
    {
      "cell_type": "code",
      "source": [
        "cantidad = len(lines) # Se carga en \"cantidad\" la cantidad de líneas\n",
        "umbral_anterior = 2e-14\n",
        "subintervalos = 0\n",
        "N_muestras = []\n",
        "pow_4s = np.zeros(200)\n",
        "pow_minuto = np.full(15, 2e-14) #Se inicializa el arreglo para que el umbral de -107dBm=2e-14\n",
        "arr_pow_actual = np.full(50, 2e-14) #Se inicializa el arreglo que determina la potencia actual con el promedio. Se toma un promedio movil del\n",
        "                                    #ultimo ms (50 muestras) iniciando con una potencia inicial igual al umbral minimo\n",
        "N = 1000\n",
        "for i in range(0, cantidad):\n",
        "  umbral_anterior, N_muestras, subintervalos, pow_4s, pow_minuto, arr_pow_actual, N = potumbral_muestra(complex(lines[i]), umbral_anterior, N_muestras, subintervalos, pow_4s, pow_minuto, arr_pow_actual, N)"
      ],
      "metadata": {
        "colab": {
          "base_uri": "https://localhost:8080/"
        },
        "id": "qwkpZQIEEavd",
        "outputId": "5815c9b8-314d-472f-f39d-b23abb5cfdd5"
      },
      "execution_count": null,
      "outputs": [
        {
          "output_type": "stream",
          "name": "stdout",
          "text": [
            "2.0000000000000003e-06\n",
            "[2.e-06 0.e+00 0.e+00 0.e+00 0.e+00 0.e+00 0.e+00 0.e+00 0.e+00 0.e+00\n",
            " 0.e+00 0.e+00 0.e+00 0.e+00 0.e+00 0.e+00 0.e+00 0.e+00 0.e+00 0.e+00\n",
            " 0.e+00 0.e+00 0.e+00 0.e+00 0.e+00 0.e+00 0.e+00 0.e+00 0.e+00 0.e+00\n",
            " 0.e+00 0.e+00 0.e+00 0.e+00 0.e+00 0.e+00 0.e+00 0.e+00 0.e+00 0.e+00\n",
            " 0.e+00 0.e+00 0.e+00 0.e+00 0.e+00 0.e+00 0.e+00 0.e+00 0.e+00 0.e+00\n",
            " 0.e+00 0.e+00 0.e+00 0.e+00 0.e+00 0.e+00 0.e+00 0.e+00 0.e+00 0.e+00\n",
            " 0.e+00 0.e+00 0.e+00 0.e+00 0.e+00 0.e+00 0.e+00 0.e+00 0.e+00 0.e+00\n",
            " 0.e+00 0.e+00 0.e+00 0.e+00 0.e+00 0.e+00 0.e+00 0.e+00 0.e+00 0.e+00\n",
            " 0.e+00 0.e+00 0.e+00 0.e+00 0.e+00 0.e+00 0.e+00 0.e+00 0.e+00 0.e+00\n",
            " 0.e+00 0.e+00 0.e+00 0.e+00 0.e+00 0.e+00 0.e+00 0.e+00 0.e+00 0.e+00\n",
            " 0.e+00 0.e+00 0.e+00 0.e+00 0.e+00 0.e+00 0.e+00 0.e+00 0.e+00 0.e+00\n",
            " 0.e+00 0.e+00 0.e+00 0.e+00 0.e+00 0.e+00 0.e+00 0.e+00 0.e+00 0.e+00\n",
            " 0.e+00 0.e+00 0.e+00 0.e+00 0.e+00 0.e+00 0.e+00 0.e+00 0.e+00 0.e+00\n",
            " 0.e+00 0.e+00 0.e+00 0.e+00 0.e+00 0.e+00 0.e+00 0.e+00 0.e+00 0.e+00\n",
            " 0.e+00 0.e+00 0.e+00 0.e+00 0.e+00 0.e+00 0.e+00 0.e+00 0.e+00 0.e+00\n",
            " 0.e+00 0.e+00 0.e+00 0.e+00 0.e+00 0.e+00 0.e+00 0.e+00 0.e+00 0.e+00\n",
            " 0.e+00 0.e+00 0.e+00 0.e+00 0.e+00 0.e+00 0.e+00 0.e+00 0.e+00 0.e+00\n",
            " 0.e+00 0.e+00 0.e+00 0.e+00 0.e+00 0.e+00 0.e+00 0.e+00 0.e+00 0.e+00\n",
            " 0.e+00 0.e+00 0.e+00 0.e+00 0.e+00 0.e+00 0.e+00 0.e+00 0.e+00 0.e+00\n",
            " 0.e+00 0.e+00 0.e+00 0.e+00 0.e+00 0.e+00 0.e+00 0.e+00 0.e+00 0.e+00]\n",
            "8.000000000000001e-06\n",
            "[2.e-06 8.e-06 0.e+00 0.e+00 0.e+00 0.e+00 0.e+00 0.e+00 0.e+00 0.e+00\n",
            " 0.e+00 0.e+00 0.e+00 0.e+00 0.e+00 0.e+00 0.e+00 0.e+00 0.e+00 0.e+00\n",
            " 0.e+00 0.e+00 0.e+00 0.e+00 0.e+00 0.e+00 0.e+00 0.e+00 0.e+00 0.e+00\n",
            " 0.e+00 0.e+00 0.e+00 0.e+00 0.e+00 0.e+00 0.e+00 0.e+00 0.e+00 0.e+00\n",
            " 0.e+00 0.e+00 0.e+00 0.e+00 0.e+00 0.e+00 0.e+00 0.e+00 0.e+00 0.e+00\n",
            " 0.e+00 0.e+00 0.e+00 0.e+00 0.e+00 0.e+00 0.e+00 0.e+00 0.e+00 0.e+00\n",
            " 0.e+00 0.e+00 0.e+00 0.e+00 0.e+00 0.e+00 0.e+00 0.e+00 0.e+00 0.e+00\n",
            " 0.e+00 0.e+00 0.e+00 0.e+00 0.e+00 0.e+00 0.e+00 0.e+00 0.e+00 0.e+00\n",
            " 0.e+00 0.e+00 0.e+00 0.e+00 0.e+00 0.e+00 0.e+00 0.e+00 0.e+00 0.e+00\n",
            " 0.e+00 0.e+00 0.e+00 0.e+00 0.e+00 0.e+00 0.e+00 0.e+00 0.e+00 0.e+00\n",
            " 0.e+00 0.e+00 0.e+00 0.e+00 0.e+00 0.e+00 0.e+00 0.e+00 0.e+00 0.e+00\n",
            " 0.e+00 0.e+00 0.e+00 0.e+00 0.e+00 0.e+00 0.e+00 0.e+00 0.e+00 0.e+00\n",
            " 0.e+00 0.e+00 0.e+00 0.e+00 0.e+00 0.e+00 0.e+00 0.e+00 0.e+00 0.e+00\n",
            " 0.e+00 0.e+00 0.e+00 0.e+00 0.e+00 0.e+00 0.e+00 0.e+00 0.e+00 0.e+00\n",
            " 0.e+00 0.e+00 0.e+00 0.e+00 0.e+00 0.e+00 0.e+00 0.e+00 0.e+00 0.e+00\n",
            " 0.e+00 0.e+00 0.e+00 0.e+00 0.e+00 0.e+00 0.e+00 0.e+00 0.e+00 0.e+00\n",
            " 0.e+00 0.e+00 0.e+00 0.e+00 0.e+00 0.e+00 0.e+00 0.e+00 0.e+00 0.e+00\n",
            " 0.e+00 0.e+00 0.e+00 0.e+00 0.e+00 0.e+00 0.e+00 0.e+00 0.e+00 0.e+00\n",
            " 0.e+00 0.e+00 0.e+00 0.e+00 0.e+00 0.e+00 0.e+00 0.e+00 0.e+00 0.e+00\n",
            " 0.e+00 0.e+00 0.e+00 0.e+00 0.e+00 0.e+00 0.e+00 0.e+00 0.e+00 0.e+00]\n",
            "1.8e-05\n",
            "[2.0e-06 8.0e-06 1.8e-05 0.0e+00 0.0e+00 0.0e+00 0.0e+00 0.0e+00 0.0e+00\n",
            " 0.0e+00 0.0e+00 0.0e+00 0.0e+00 0.0e+00 0.0e+00 0.0e+00 0.0e+00 0.0e+00\n",
            " 0.0e+00 0.0e+00 0.0e+00 0.0e+00 0.0e+00 0.0e+00 0.0e+00 0.0e+00 0.0e+00\n",
            " 0.0e+00 0.0e+00 0.0e+00 0.0e+00 0.0e+00 0.0e+00 0.0e+00 0.0e+00 0.0e+00\n",
            " 0.0e+00 0.0e+00 0.0e+00 0.0e+00 0.0e+00 0.0e+00 0.0e+00 0.0e+00 0.0e+00\n",
            " 0.0e+00 0.0e+00 0.0e+00 0.0e+00 0.0e+00 0.0e+00 0.0e+00 0.0e+00 0.0e+00\n",
            " 0.0e+00 0.0e+00 0.0e+00 0.0e+00 0.0e+00 0.0e+00 0.0e+00 0.0e+00 0.0e+00\n",
            " 0.0e+00 0.0e+00 0.0e+00 0.0e+00 0.0e+00 0.0e+00 0.0e+00 0.0e+00 0.0e+00\n",
            " 0.0e+00 0.0e+00 0.0e+00 0.0e+00 0.0e+00 0.0e+00 0.0e+00 0.0e+00 0.0e+00\n",
            " 0.0e+00 0.0e+00 0.0e+00 0.0e+00 0.0e+00 0.0e+00 0.0e+00 0.0e+00 0.0e+00\n",
            " 0.0e+00 0.0e+00 0.0e+00 0.0e+00 0.0e+00 0.0e+00 0.0e+00 0.0e+00 0.0e+00\n",
            " 0.0e+00 0.0e+00 0.0e+00 0.0e+00 0.0e+00 0.0e+00 0.0e+00 0.0e+00 0.0e+00\n",
            " 0.0e+00 0.0e+00 0.0e+00 0.0e+00 0.0e+00 0.0e+00 0.0e+00 0.0e+00 0.0e+00\n",
            " 0.0e+00 0.0e+00 0.0e+00 0.0e+00 0.0e+00 0.0e+00 0.0e+00 0.0e+00 0.0e+00\n",
            " 0.0e+00 0.0e+00 0.0e+00 0.0e+00 0.0e+00 0.0e+00 0.0e+00 0.0e+00 0.0e+00\n",
            " 0.0e+00 0.0e+00 0.0e+00 0.0e+00 0.0e+00 0.0e+00 0.0e+00 0.0e+00 0.0e+00\n",
            " 0.0e+00 0.0e+00 0.0e+00 0.0e+00 0.0e+00 0.0e+00 0.0e+00 0.0e+00 0.0e+00\n",
            " 0.0e+00 0.0e+00 0.0e+00 0.0e+00 0.0e+00 0.0e+00 0.0e+00 0.0e+00 0.0e+00\n",
            " 0.0e+00 0.0e+00 0.0e+00 0.0e+00 0.0e+00 0.0e+00 0.0e+00 0.0e+00 0.0e+00\n",
            " 0.0e+00 0.0e+00 0.0e+00 0.0e+00 0.0e+00 0.0e+00 0.0e+00 0.0e+00 0.0e+00\n",
            " 0.0e+00 0.0e+00 0.0e+00 0.0e+00 0.0e+00 0.0e+00 0.0e+00 0.0e+00 0.0e+00\n",
            " 0.0e+00 0.0e+00 0.0e+00 0.0e+00 0.0e+00 0.0e+00 0.0e+00 0.0e+00 0.0e+00\n",
            " 0.0e+00 0.0e+00]\n"
          ]
        }
      ]
    },
    {
      "cell_type": "markdown",
      "source": [
        "### Prueba 2"
      ],
      "metadata": {
        "id": "IIqzKtsx40f_"
      }
    },
    {
      "cell_type": "markdown",
      "source": [
        "Se prueba con intervalos de 20 ms que tienen un valor X en las muestras de los primeros 10 ms, y luego un valor Y en las muestras de los siguientes 10 ms."
      ],
      "metadata": {
        "id": "fjzAEvh35Z-4"
      }
    },
    {
      "cell_type": "code",
      "source": [
        "generate_and_save_complex_numbers(\"complex_numbers20ms_2.txt\", num_lines=3, type='probar20ms2')"
      ],
      "metadata": {
        "id": "kU4Fpx01Eysy"
      },
      "execution_count": null,
      "outputs": []
    },
    {
      "cell_type": "code",
      "source": [
        "#Cada línea tendrá guardada 1000 muestras que equivalen a 20ms.\n",
        "with open(r'complex_numbers20ms_2.txt') as f:\n",
        "    lines = f.readlines()"
      ],
      "metadata": {
        "id": "xB1_Xdft5ovR"
      },
      "execution_count": null,
      "outputs": []
    },
    {
      "cell_type": "code",
      "source": [
        "cantidad = len(lines) # Se carga en \"cantidad\" la cantidad de líneas\n",
        "umbral_anterior = 2e-14\n",
        "subintervalos = 0\n",
        "N_muestras = []\n",
        "pow_4s = np.zeros(200)\n",
        "pow_minuto = np.full(15, 2e-14) #Se inicializa el arreglo para que el umbral de -107dBm=2e-14\n",
        "arr_pow_actual = np.full(50, 2e-14) #Se inicializa el arreglo que determina la potencia actual con el promedio. Se toma un promedio movil del\n",
        "                                    #ultimo ms (50 muestras) iniciando con una potencia inicial igual al umbral minimo\n",
        "N = 1000\n",
        "for i in range(0, cantidad):\n",
        "  umbral_anterior, N_muestras, subintervalos, pow_4s, pow_minuto, arr_pow_actual, N = potumbral_muestra(complex(lines[i]), umbral_anterior, N_muestras, subintervalos, pow_4s, pow_minuto, arr_pow_actual, N)"
      ],
      "metadata": {
        "colab": {
          "base_uri": "https://localhost:8080/"
        },
        "id": "BTn0mEbB5tm4",
        "outputId": "b8bb0bb6-92ca-4f85-9e07-ca086046b88e"
      },
      "execution_count": null,
      "outputs": [
        {
          "output_type": "stream",
          "name": "stdout",
          "text": [
            "5.000000000000001e-06\n",
            "[5.e-06 0.e+00 0.e+00 0.e+00 0.e+00 0.e+00 0.e+00 0.e+00 0.e+00 0.e+00\n",
            " 0.e+00 0.e+00 0.e+00 0.e+00 0.e+00 0.e+00 0.e+00 0.e+00 0.e+00 0.e+00\n",
            " 0.e+00 0.e+00 0.e+00 0.e+00 0.e+00 0.e+00 0.e+00 0.e+00 0.e+00 0.e+00\n",
            " 0.e+00 0.e+00 0.e+00 0.e+00 0.e+00 0.e+00 0.e+00 0.e+00 0.e+00 0.e+00\n",
            " 0.e+00 0.e+00 0.e+00 0.e+00 0.e+00 0.e+00 0.e+00 0.e+00 0.e+00 0.e+00\n",
            " 0.e+00 0.e+00 0.e+00 0.e+00 0.e+00 0.e+00 0.e+00 0.e+00 0.e+00 0.e+00\n",
            " 0.e+00 0.e+00 0.e+00 0.e+00 0.e+00 0.e+00 0.e+00 0.e+00 0.e+00 0.e+00\n",
            " 0.e+00 0.e+00 0.e+00 0.e+00 0.e+00 0.e+00 0.e+00 0.e+00 0.e+00 0.e+00\n",
            " 0.e+00 0.e+00 0.e+00 0.e+00 0.e+00 0.e+00 0.e+00 0.e+00 0.e+00 0.e+00\n",
            " 0.e+00 0.e+00 0.e+00 0.e+00 0.e+00 0.e+00 0.e+00 0.e+00 0.e+00 0.e+00\n",
            " 0.e+00 0.e+00 0.e+00 0.e+00 0.e+00 0.e+00 0.e+00 0.e+00 0.e+00 0.e+00\n",
            " 0.e+00 0.e+00 0.e+00 0.e+00 0.e+00 0.e+00 0.e+00 0.e+00 0.e+00 0.e+00\n",
            " 0.e+00 0.e+00 0.e+00 0.e+00 0.e+00 0.e+00 0.e+00 0.e+00 0.e+00 0.e+00\n",
            " 0.e+00 0.e+00 0.e+00 0.e+00 0.e+00 0.e+00 0.e+00 0.e+00 0.e+00 0.e+00\n",
            " 0.e+00 0.e+00 0.e+00 0.e+00 0.e+00 0.e+00 0.e+00 0.e+00 0.e+00 0.e+00\n",
            " 0.e+00 0.e+00 0.e+00 0.e+00 0.e+00 0.e+00 0.e+00 0.e+00 0.e+00 0.e+00\n",
            " 0.e+00 0.e+00 0.e+00 0.e+00 0.e+00 0.e+00 0.e+00 0.e+00 0.e+00 0.e+00\n",
            " 0.e+00 0.e+00 0.e+00 0.e+00 0.e+00 0.e+00 0.e+00 0.e+00 0.e+00 0.e+00\n",
            " 0.e+00 0.e+00 0.e+00 0.e+00 0.e+00 0.e+00 0.e+00 0.e+00 0.e+00 0.e+00\n",
            " 0.e+00 0.e+00 0.e+00 0.e+00 0.e+00 0.e+00 0.e+00 0.e+00 0.e+00 0.e+00]\n",
            "2.5e-05\n",
            "[5.0e-06 2.5e-05 0.0e+00 0.0e+00 0.0e+00 0.0e+00 0.0e+00 0.0e+00 0.0e+00\n",
            " 0.0e+00 0.0e+00 0.0e+00 0.0e+00 0.0e+00 0.0e+00 0.0e+00 0.0e+00 0.0e+00\n",
            " 0.0e+00 0.0e+00 0.0e+00 0.0e+00 0.0e+00 0.0e+00 0.0e+00 0.0e+00 0.0e+00\n",
            " 0.0e+00 0.0e+00 0.0e+00 0.0e+00 0.0e+00 0.0e+00 0.0e+00 0.0e+00 0.0e+00\n",
            " 0.0e+00 0.0e+00 0.0e+00 0.0e+00 0.0e+00 0.0e+00 0.0e+00 0.0e+00 0.0e+00\n",
            " 0.0e+00 0.0e+00 0.0e+00 0.0e+00 0.0e+00 0.0e+00 0.0e+00 0.0e+00 0.0e+00\n",
            " 0.0e+00 0.0e+00 0.0e+00 0.0e+00 0.0e+00 0.0e+00 0.0e+00 0.0e+00 0.0e+00\n",
            " 0.0e+00 0.0e+00 0.0e+00 0.0e+00 0.0e+00 0.0e+00 0.0e+00 0.0e+00 0.0e+00\n",
            " 0.0e+00 0.0e+00 0.0e+00 0.0e+00 0.0e+00 0.0e+00 0.0e+00 0.0e+00 0.0e+00\n",
            " 0.0e+00 0.0e+00 0.0e+00 0.0e+00 0.0e+00 0.0e+00 0.0e+00 0.0e+00 0.0e+00\n",
            " 0.0e+00 0.0e+00 0.0e+00 0.0e+00 0.0e+00 0.0e+00 0.0e+00 0.0e+00 0.0e+00\n",
            " 0.0e+00 0.0e+00 0.0e+00 0.0e+00 0.0e+00 0.0e+00 0.0e+00 0.0e+00 0.0e+00\n",
            " 0.0e+00 0.0e+00 0.0e+00 0.0e+00 0.0e+00 0.0e+00 0.0e+00 0.0e+00 0.0e+00\n",
            " 0.0e+00 0.0e+00 0.0e+00 0.0e+00 0.0e+00 0.0e+00 0.0e+00 0.0e+00 0.0e+00\n",
            " 0.0e+00 0.0e+00 0.0e+00 0.0e+00 0.0e+00 0.0e+00 0.0e+00 0.0e+00 0.0e+00\n",
            " 0.0e+00 0.0e+00 0.0e+00 0.0e+00 0.0e+00 0.0e+00 0.0e+00 0.0e+00 0.0e+00\n",
            " 0.0e+00 0.0e+00 0.0e+00 0.0e+00 0.0e+00 0.0e+00 0.0e+00 0.0e+00 0.0e+00\n",
            " 0.0e+00 0.0e+00 0.0e+00 0.0e+00 0.0e+00 0.0e+00 0.0e+00 0.0e+00 0.0e+00\n",
            " 0.0e+00 0.0e+00 0.0e+00 0.0e+00 0.0e+00 0.0e+00 0.0e+00 0.0e+00 0.0e+00\n",
            " 0.0e+00 0.0e+00 0.0e+00 0.0e+00 0.0e+00 0.0e+00 0.0e+00 0.0e+00 0.0e+00\n",
            " 0.0e+00 0.0e+00 0.0e+00 0.0e+00 0.0e+00 0.0e+00 0.0e+00 0.0e+00 0.0e+00\n",
            " 0.0e+00 0.0e+00 0.0e+00 0.0e+00 0.0e+00 0.0e+00 0.0e+00 0.0e+00 0.0e+00\n",
            " 0.0e+00 0.0e+00]\n",
            "6.1000000000000005e-05\n",
            "[5.0e-06 2.5e-05 6.1e-05 0.0e+00 0.0e+00 0.0e+00 0.0e+00 0.0e+00 0.0e+00\n",
            " 0.0e+00 0.0e+00 0.0e+00 0.0e+00 0.0e+00 0.0e+00 0.0e+00 0.0e+00 0.0e+00\n",
            " 0.0e+00 0.0e+00 0.0e+00 0.0e+00 0.0e+00 0.0e+00 0.0e+00 0.0e+00 0.0e+00\n",
            " 0.0e+00 0.0e+00 0.0e+00 0.0e+00 0.0e+00 0.0e+00 0.0e+00 0.0e+00 0.0e+00\n",
            " 0.0e+00 0.0e+00 0.0e+00 0.0e+00 0.0e+00 0.0e+00 0.0e+00 0.0e+00 0.0e+00\n",
            " 0.0e+00 0.0e+00 0.0e+00 0.0e+00 0.0e+00 0.0e+00 0.0e+00 0.0e+00 0.0e+00\n",
            " 0.0e+00 0.0e+00 0.0e+00 0.0e+00 0.0e+00 0.0e+00 0.0e+00 0.0e+00 0.0e+00\n",
            " 0.0e+00 0.0e+00 0.0e+00 0.0e+00 0.0e+00 0.0e+00 0.0e+00 0.0e+00 0.0e+00\n",
            " 0.0e+00 0.0e+00 0.0e+00 0.0e+00 0.0e+00 0.0e+00 0.0e+00 0.0e+00 0.0e+00\n",
            " 0.0e+00 0.0e+00 0.0e+00 0.0e+00 0.0e+00 0.0e+00 0.0e+00 0.0e+00 0.0e+00\n",
            " 0.0e+00 0.0e+00 0.0e+00 0.0e+00 0.0e+00 0.0e+00 0.0e+00 0.0e+00 0.0e+00\n",
            " 0.0e+00 0.0e+00 0.0e+00 0.0e+00 0.0e+00 0.0e+00 0.0e+00 0.0e+00 0.0e+00\n",
            " 0.0e+00 0.0e+00 0.0e+00 0.0e+00 0.0e+00 0.0e+00 0.0e+00 0.0e+00 0.0e+00\n",
            " 0.0e+00 0.0e+00 0.0e+00 0.0e+00 0.0e+00 0.0e+00 0.0e+00 0.0e+00 0.0e+00\n",
            " 0.0e+00 0.0e+00 0.0e+00 0.0e+00 0.0e+00 0.0e+00 0.0e+00 0.0e+00 0.0e+00\n",
            " 0.0e+00 0.0e+00 0.0e+00 0.0e+00 0.0e+00 0.0e+00 0.0e+00 0.0e+00 0.0e+00\n",
            " 0.0e+00 0.0e+00 0.0e+00 0.0e+00 0.0e+00 0.0e+00 0.0e+00 0.0e+00 0.0e+00\n",
            " 0.0e+00 0.0e+00 0.0e+00 0.0e+00 0.0e+00 0.0e+00 0.0e+00 0.0e+00 0.0e+00\n",
            " 0.0e+00 0.0e+00 0.0e+00 0.0e+00 0.0e+00 0.0e+00 0.0e+00 0.0e+00 0.0e+00\n",
            " 0.0e+00 0.0e+00 0.0e+00 0.0e+00 0.0e+00 0.0e+00 0.0e+00 0.0e+00 0.0e+00\n",
            " 0.0e+00 0.0e+00 0.0e+00 0.0e+00 0.0e+00 0.0e+00 0.0e+00 0.0e+00 0.0e+00\n",
            " 0.0e+00 0.0e+00 0.0e+00 0.0e+00 0.0e+00 0.0e+00 0.0e+00 0.0e+00 0.0e+00\n",
            " 0.0e+00 0.0e+00]\n"
          ]
        }
      ]
    },
    {
      "cell_type": "markdown",
      "source": [
        "## Prueba de intervalos de 4 s"
      ],
      "metadata": {
        "id": "RcWvGiCW6RH5"
      }
    },
    {
      "cell_type": "markdown",
      "source": [
        "### Prueba 1"
      ],
      "metadata": {
        "id": "ByxGTq81_RJV"
      }
    },
    {
      "cell_type": "markdown",
      "source": [
        "Prueba de 3 intervalos de 4s, esto es, 3*200 subintervalos de 20 ms. El valor de la potencia va aumentando desde el primer subintervalo hasta el subintervalo numero 600, por lo que el menor valor de cada subintervalo será siempre la primera muestra del mismo."
      ],
      "metadata": {
        "id": "u-SBrqaM-6F7"
      }
    },
    {
      "cell_type": "code",
      "source": [
        "generate_and_save_complex_numbers(\"complex_numbers4s_1.txt\", num_lines=600, type='probar4s1')"
      ],
      "metadata": {
        "id": "s9VuhoPa52Ms"
      },
      "execution_count": null,
      "outputs": []
    },
    {
      "cell_type": "code",
      "source": [
        "#Cada línea tendrá guardada 1000 muestras que equivalen a 20ms.\n",
        "with open(r'complex_numbers4s_1.txt') as f:\n",
        "    lines = f.readlines()"
      ],
      "metadata": {
        "id": "L7RVDiHY6YDe"
      },
      "execution_count": null,
      "outputs": []
    },
    {
      "cell_type": "code",
      "source": [
        "cantidad = len(lines) # Se carga en \"cantidad\" la cantidad de líneas\n",
        "umbral_anterior = 2e-14\n",
        "subintervalos = 0\n",
        "N_muestras = []\n",
        "pow_4s = np.zeros(200)\n",
        "pow_minuto = np.full(15, 2e-14) #Se inicializa el arreglo para que el umbral de -107dBm=2e-14\n",
        "arr_pow_actual = np.full(50, 2e-14) #Se inicializa el arreglo que determina la potencia actual con el promedio. Se toma un promedio movil del\n",
        "                                    #ultimo ms (50 muestras) iniciando con una potencia inicial igual al umbral minimo\n",
        "N = 1000\n",
        "for i in range(0, cantidad):\n",
        "  umbral_anterior, N_muestras, subintervalos, pow_4s, pow_minuto, arr_pow_actual, N = potumbral_muestra(complex(lines[i]), umbral_anterior, N_muestras, subintervalos, pow_4s, pow_minuto, arr_pow_actual, N)"
      ],
      "metadata": {
        "colab": {
          "base_uri": "https://localhost:8080/"
        },
        "id": "tl8Cg9VW6eRg",
        "outputId": "6b9c1339-73f4-4058-cdf6-dac879a3428c"
      },
      "execution_count": null,
      "outputs": [
        {
          "output_type": "stream",
          "name": "stdout",
          "text": [
            "2.0000000000000003e-06\n",
            "2e-14\n",
            "0.08080200000000001\n",
            "2e-14\n",
            "0.3216020000000001\n",
            "2e-14\n"
          ]
        }
      ]
    },
    {
      "cell_type": "markdown",
      "source": [
        "Se observa que 2e-6 es la potencia asociada al menor valor de los primeros 200 subintervalos de 20 ms (0.001+0.001j). En los segundos 200 subintervalos se tiene que el primer valor es (0.001+0.001j)*200+(0.001+0.001j), que es el complejo inicial, más el valor de las 200 siguientes iteraciones. La potencia asociada es 0.080802. Finalmente, para el siguiente se considera 0.001+0.001j 401 veces, que tiene la potencia 0.321602."
      ],
      "metadata": {
        "id": "isgVnjMg-NAV"
      }
    },
    {
      "cell_type": "markdown",
      "source": [
        "### Prueba 2\n",
        "Se prueba con 3 intervalos de 4 s, teniendo 3*200 subintervalos de 20 ms. En los primeros 300 subintervalos la potencia va disminuyendo, y luego comienza a aumentar."
      ],
      "metadata": {
        "id": "Q8LiX3hV_Pzg"
      }
    },
    {
      "cell_type": "code",
      "source": [
        "generate_and_save_complex_numbers(\"complex_numbers4s_2.txt\", num_lines=600, type='probar4s2')"
      ],
      "metadata": {
        "id": "QcpUmBG69K0L"
      },
      "execution_count": null,
      "outputs": []
    },
    {
      "cell_type": "code",
      "source": [
        "#Cada línea tendrá guardada 1000 muestras que equivalen a 20ms.\n",
        "with open(r'complex_numbers4s_2.txt') as f:\n",
        "    lines = f.readlines()"
      ],
      "metadata": {
        "id": "6YFF23_F_-lJ"
      },
      "execution_count": null,
      "outputs": []
    },
    {
      "cell_type": "code",
      "source": [
        "cantidad = len(lines) # Se carga en \"cantidad\" la cantidad de líneas\n",
        "umbral_anterior = 2e-14\n",
        "subintervalos = 0\n",
        "N_muestras = []\n",
        "pow_4s = np.zeros(200)\n",
        "pow_minuto = np.full(15, 2e-14) #Se inicializa el arreglo para que el umbral de -107dBm=2e-14\n",
        "arr_pow_actual = np.full(50, 2e-14) #Se inicializa el arreglo que determina la potencia actual con el promedio. Se toma un promedio movil del\n",
        "                                    #ultimo ms (50 muestras) iniciando con una potencia inicial igual al umbral minimo\n",
        "N = 1000\n",
        "for i in range(0, cantidad):\n",
        "  umbral_anterior, N_muestras, subintervalos, pow_4s, pow_minuto, arr_pow_actual, N = potumbral_muestra(complex(lines[i]), umbral_anterior, N_muestras, subintervalos, pow_4s, pow_minuto, arr_pow_actual, N)"
      ],
      "metadata": {
        "colab": {
          "base_uri": "https://localhost:8080/"
        },
        "id": "V3DFoeq6ADoF",
        "outputId": "ba71aa43-3603-4f82-941a-34d16d7f5b00"
      },
      "execution_count": null,
      "outputs": [
        {
          "output_type": "stream",
          "name": "stdout",
          "text": [
            "0.72\n",
            "2e-14\n",
            "0.5000000000000001\n",
            "2e-14\n",
            "0.7224020000000002\n",
            "2e-14\n"
          ]
        }
      ]
    },
    {
      "cell_type": "markdown",
      "source": [
        "Se tiene que el valor más chico en el primer intervalo de 20ms es (0.001+0.001j)x800 - (0.001+0.001j)x200 (pues en los primeros 300 subintervalos se va restando), que es (0.6 + 0.6j). La potencia de este complejo es 0.72.\n",
        "\n",
        "Para el segundo intervalo de 20ms el valor más chico es de (0.001+0.001j)x800 - (0.001+0.001j)x300 pues se van disminuyendo los valores hasta la mitad del intervalo y después empieza a aumentar. El valor de dicho complejo es (0.005+0.005j) que tiene potencia de 0.5.\n",
        "\n",
        "Para el tercer intervalo de 20ms, el valor más chico es el primero pues en todos los 200 subintervalos el valor aumenta. Es decir, el valor del complejo más chico en esos 20ms es de (0.001+0.001j)x800 - (0.001+0.001j)x300 + (0.001+0.001j)x100 = (0.001+0.001j)x800 - (0.001+0.001j)x200. Esto da el complejo de (0.6 + 0.6j) cuya potencia es 0.72."
      ],
      "metadata": {
        "id": "kVpGOwvBBC7D"
      }
    },
    {
      "cell_type": "markdown",
      "source": [
        "## Prueba de 1 min"
      ],
      "metadata": {
        "id": "ALZiIf2V0VVY"
      }
    },
    {
      "cell_type": "markdown",
      "source": [
        "### Prueba 1\n",
        "Los valores de cada intervalo de 4 s van aumentando."
      ],
      "metadata": {
        "id": "KcqMtGvFO3yD"
      }
    },
    {
      "cell_type": "markdown",
      "source": [
        "Se busca verificar que se tome el intervalo correcto dentro de los 15 intervalos de 4 s."
      ],
      "metadata": {
        "id": "vVGMbIsg0Zqk"
      }
    },
    {
      "cell_type": "code",
      "source": [
        "generate_and_save_complex_numbers(\"complex_numbers1min.txt\", num_lines=200*15*3, type='probar1min') # cada linea hace referencia a 20 ms\n",
        "                                                                                                   # se precisan 200 lineas para 4 s, y 15 veces 4 s para un minuto\n",
        "                                                                                                   # entonces, 200*15 es un minuto, y fijo 3 minutos para la prueba"
      ],
      "metadata": {
        "id": "D8eUoxTgAFV-"
      },
      "execution_count": null,
      "outputs": []
    },
    {
      "cell_type": "code",
      "source": [
        "#Cada línea tendrá guardada 1000 muestras que equivalen a 20ms.\n",
        "with open(r'complex_numbers1min.txt') as f:\n",
        "    lines = f.readlines()"
      ],
      "metadata": {
        "id": "fmaIA79n4xj-"
      },
      "execution_count": null,
      "outputs": []
    },
    {
      "cell_type": "code",
      "source": [
        "cantidad = len(lines) # Se carga en \"cantidad\" la cantidad de líneas\n",
        "umbral_anterior = 2e-14\n",
        "subintervalos = 0\n",
        "N_muestras = []\n",
        "pow_4s = np.zeros(200)\n",
        "pow_minuto = np.full(15, 2e-14) #Se inicializa el arreglo para que el umbral de -107dBm=2e-14\n",
        "arr_pow_actual = np.full(50, 2e-14) #Se inicializa el arreglo que determina la potencia actual con el promedio. Se toma un promedio movil del\n",
        "                                    #ultimo ms (50 muestras) iniciando con una potencia inicial igual al umbral minimo\n",
        "N = 1000\n",
        "for i in range(0, cantidad):\n",
        "  umbral_anterior, N_muestras, subintervalos, pow_4s, pow_minuto, arr_pow_actual, N = potumbral_muestra(complex(lines[i]), umbral_anterior, N_muestras, subintervalos, pow_4s, pow_minuto, arr_pow_actual, N)"
      ],
      "metadata": {
        "colab": {
          "base_uri": "https://localhost:8080/"
        },
        "id": "8XmK2ng05RhS",
        "outputId": "c800c28f-3673-45a7-c991-5364a0413a24"
      },
      "execution_count": null,
      "outputs": [
        {
          "output_type": "stream",
          "name": "stdout",
          "text": [
            "2.0000000000000003e-06\n",
            "2e-14\n",
            "[2.e-06 2.e-14 2.e-14 2.e-14 2.e-14 2.e-14 2.e-14 2.e-14 2.e-14 2.e-14\n",
            " 2.e-14 2.e-14 2.e-14 2.e-14 2.e-14]\n",
            "------\n",
            "8.000000000000001e-06\n",
            "2e-14\n",
            "[8.e-06 2.e-06 2.e-14 2.e-14 2.e-14 2.e-14 2.e-14 2.e-14 2.e-14 2.e-14\n",
            " 2.e-14 2.e-14 2.e-14 2.e-14 2.e-14]\n",
            "------\n",
            "1.8e-05\n",
            "2e-14\n",
            "[1.8e-05 8.0e-06 2.0e-06 2.0e-14 2.0e-14 2.0e-14 2.0e-14 2.0e-14 2.0e-14\n",
            " 2.0e-14 2.0e-14 2.0e-14 2.0e-14 2.0e-14 2.0e-14]\n",
            "------\n",
            "3.2000000000000005e-05\n",
            "2e-14\n",
            "[3.2e-05 1.8e-05 8.0e-06 2.0e-06 2.0e-14 2.0e-14 2.0e-14 2.0e-14 2.0e-14\n",
            " 2.0e-14 2.0e-14 2.0e-14 2.0e-14 2.0e-14 2.0e-14]\n",
            "------\n",
            "5.0000000000000016e-05\n",
            "2e-14\n",
            "[5.0e-05 3.2e-05 1.8e-05 8.0e-06 2.0e-06 2.0e-14 2.0e-14 2.0e-14 2.0e-14\n",
            " 2.0e-14 2.0e-14 2.0e-14 2.0e-14 2.0e-14 2.0e-14]\n",
            "------\n",
            "7.2e-05\n",
            "2e-14\n",
            "[7.2e-05 5.0e-05 3.2e-05 1.8e-05 8.0e-06 2.0e-06 2.0e-14 2.0e-14 2.0e-14\n",
            " 2.0e-14 2.0e-14 2.0e-14 2.0e-14 2.0e-14 2.0e-14]\n",
            "------\n",
            "9.800000000000001e-05\n",
            "2e-14\n",
            "[9.8e-05 7.2e-05 5.0e-05 3.2e-05 1.8e-05 8.0e-06 2.0e-06 2.0e-14 2.0e-14\n",
            " 2.0e-14 2.0e-14 2.0e-14 2.0e-14 2.0e-14 2.0e-14]\n",
            "------\n",
            "0.00012800000000000002\n",
            "2e-14\n",
            "[1.28e-04 9.80e-05 7.20e-05 5.00e-05 3.20e-05 1.80e-05 8.00e-06 2.00e-06\n",
            " 2.00e-14 2.00e-14 2.00e-14 2.00e-14 2.00e-14 2.00e-14 2.00e-14]\n",
            "------\n",
            "0.00016199999999999995\n",
            "2e-14\n",
            "[1.62e-04 1.28e-04 9.80e-05 7.20e-05 5.00e-05 3.20e-05 1.80e-05 8.00e-06\n",
            " 2.00e-06 2.00e-14 2.00e-14 2.00e-14 2.00e-14 2.00e-14 2.00e-14]\n",
            "------\n",
            "0.00020000000000000006\n",
            "2e-14\n",
            "[2.00e-04 1.62e-04 1.28e-04 9.80e-05 7.20e-05 5.00e-05 3.20e-05 1.80e-05\n",
            " 8.00e-06 2.00e-06 2.00e-14 2.00e-14 2.00e-14 2.00e-14 2.00e-14]\n",
            "------\n",
            "0.000242\n",
            "2e-14\n",
            "[2.42e-04 2.00e-04 1.62e-04 1.28e-04 9.80e-05 7.20e-05 5.00e-05 3.20e-05\n",
            " 1.80e-05 8.00e-06 2.00e-06 2.00e-14 2.00e-14 2.00e-14 2.00e-14]\n",
            "------\n",
            "0.000288\n",
            "2e-14\n",
            "[2.88e-04 2.42e-04 2.00e-04 1.62e-04 1.28e-04 9.80e-05 7.20e-05 5.00e-05\n",
            " 3.20e-05 1.80e-05 8.00e-06 2.00e-06 2.00e-14 2.00e-14 2.00e-14]\n",
            "------\n",
            "0.00033800000000000003\n",
            "2e-14\n",
            "[3.38e-04 2.88e-04 2.42e-04 2.00e-04 1.62e-04 1.28e-04 9.80e-05 7.20e-05\n",
            " 5.00e-05 3.20e-05 1.80e-05 8.00e-06 2.00e-06 2.00e-14 2.00e-14]\n",
            "------\n",
            "0.00039200000000000004\n",
            "2e-14\n",
            "[3.92e-04 3.38e-04 2.88e-04 2.42e-04 2.00e-04 1.62e-04 1.28e-04 9.80e-05\n",
            " 7.20e-05 5.00e-05 3.20e-05 1.80e-05 8.00e-06 2.00e-06 2.00e-14]\n",
            "------\n",
            "0.0004499999999999999\n",
            "2.0000000000000003e-06\n",
            "[4.50e-04 3.92e-04 3.38e-04 2.88e-04 2.42e-04 2.00e-04 1.62e-04 1.28e-04\n",
            " 9.80e-05 7.20e-05 5.00e-05 3.20e-05 1.80e-05 8.00e-06 2.00e-06]\n",
            "------\n",
            "0.0005120000000000001\n",
            "8.000000000000001e-06\n",
            "[5.12e-04 4.50e-04 3.92e-04 3.38e-04 2.88e-04 2.42e-04 2.00e-04 1.62e-04\n",
            " 1.28e-04 9.80e-05 7.20e-05 5.00e-05 3.20e-05 1.80e-05 8.00e-06]\n",
            "------\n",
            "0.0005780000000000001\n",
            "1.8e-05\n",
            "[5.78e-04 5.12e-04 4.50e-04 3.92e-04 3.38e-04 2.88e-04 2.42e-04 2.00e-04\n",
            " 1.62e-04 1.28e-04 9.80e-05 7.20e-05 5.00e-05 3.20e-05 1.80e-05]\n",
            "------\n",
            "0.0006479999999999998\n",
            "3.2000000000000005e-05\n",
            "[6.48e-04 5.78e-04 5.12e-04 4.50e-04 3.92e-04 3.38e-04 2.88e-04 2.42e-04\n",
            " 2.00e-04 1.62e-04 1.28e-04 9.80e-05 7.20e-05 5.00e-05 3.20e-05]\n",
            "------\n",
            "0.000722\n",
            "5.0000000000000016e-05\n",
            "[7.22e-04 6.48e-04 5.78e-04 5.12e-04 4.50e-04 3.92e-04 3.38e-04 2.88e-04\n",
            " 2.42e-04 2.00e-04 1.62e-04 1.28e-04 9.80e-05 7.20e-05 5.00e-05]\n",
            "------\n",
            "0.0008000000000000003\n",
            "7.2e-05\n",
            "[8.00e-04 7.22e-04 6.48e-04 5.78e-04 5.12e-04 4.50e-04 3.92e-04 3.38e-04\n",
            " 2.88e-04 2.42e-04 2.00e-04 1.62e-04 1.28e-04 9.80e-05 7.20e-05]\n",
            "------\n",
            "0.0008820000000000003\n",
            "9.800000000000001e-05\n",
            "[8.82e-04 8.00e-04 7.22e-04 6.48e-04 5.78e-04 5.12e-04 4.50e-04 3.92e-04\n",
            " 3.38e-04 2.88e-04 2.42e-04 2.00e-04 1.62e-04 1.28e-04 9.80e-05]\n",
            "------\n",
            "0.000968\n",
            "0.00012800000000000002\n",
            "[0.000968 0.000882 0.0008   0.000722 0.000648 0.000578 0.000512 0.00045\n",
            " 0.000392 0.000338 0.000288 0.000242 0.0002   0.000162 0.000128]\n",
            "------\n",
            "0.0010580000000000003\n",
            "0.00016199999999999995\n",
            "[0.001058 0.000968 0.000882 0.0008   0.000722 0.000648 0.000578 0.000512\n",
            " 0.00045  0.000392 0.000338 0.000288 0.000242 0.0002   0.000162]\n",
            "------\n",
            "0.001152\n",
            "0.00019\n",
            "[0.001152 0.001058 0.000968 0.000882 0.0008   0.000722 0.000648 0.000578\n",
            " 0.000512 0.00045  0.000392 0.000338 0.000288 0.000242 0.0002  ]\n",
            "------\n",
            "0.00125\n",
            "0.00019\n",
            "[0.00125  0.001152 0.001058 0.000968 0.000882 0.0008   0.000722 0.000648\n",
            " 0.000578 0.000512 0.00045  0.000392 0.000338 0.000288 0.000242]\n",
            "------\n",
            "0.0013520000000000001\n",
            "0.00019\n",
            "[0.001352 0.00125  0.001152 0.001058 0.000968 0.000882 0.0008   0.000722\n",
            " 0.000648 0.000578 0.000512 0.00045  0.000392 0.000338 0.000288]\n",
            "------\n",
            "0.0014579999999999997\n",
            "0.00019\n",
            "[0.001458 0.001352 0.00125  0.001152 0.001058 0.000968 0.000882 0.0008\n",
            " 0.000722 0.000648 0.000578 0.000512 0.00045  0.000392 0.000338]\n",
            "------\n",
            "0.0015680000000000002\n",
            "0.00019\n",
            "[0.001568 0.001458 0.001352 0.00125  0.001152 0.001058 0.000968 0.000882\n",
            " 0.0008   0.000722 0.000648 0.000578 0.000512 0.00045  0.000392]\n",
            "------\n",
            "0.0016819999999999997\n",
            "0.00019\n",
            "[0.001682 0.001568 0.001458 0.001352 0.00125  0.001152 0.001058 0.000968\n",
            " 0.000882 0.0008   0.000722 0.000648 0.000578 0.000512 0.00045 ]\n",
            "------\n",
            "0.0017999999999999995\n",
            "0.00019\n",
            "[0.0018   0.001682 0.001568 0.001458 0.001352 0.00125  0.001152 0.001058\n",
            " 0.000968 0.000882 0.0008   0.000722 0.000648 0.000578 0.000512]\n",
            "------\n",
            "0.0019219999999999999\n",
            "0.00019\n",
            "[0.001922 0.0018   0.001682 0.001568 0.001458 0.001352 0.00125  0.001152\n",
            " 0.001058 0.000968 0.000882 0.0008   0.000722 0.000648 0.000578]\n",
            "------\n",
            "0.0020480000000000003\n",
            "0.00019\n",
            "[0.002048 0.001922 0.0018   0.001682 0.001568 0.001458 0.001352 0.00125\n",
            " 0.001152 0.001058 0.000968 0.000882 0.0008   0.000722 0.000648]\n",
            "------\n",
            "0.002178\n",
            "0.00019\n",
            "[0.002178 0.002048 0.001922 0.0018   0.001682 0.001568 0.001458 0.001352\n",
            " 0.00125  0.001152 0.001058 0.000968 0.000882 0.0008   0.000722]\n",
            "------\n",
            "0.0023120000000000003\n",
            "0.00019\n",
            "[0.002312 0.002178 0.002048 0.001922 0.0018   0.001682 0.001568 0.001458\n",
            " 0.001352 0.00125  0.001152 0.001058 0.000968 0.000882 0.0008  ]\n",
            "------\n",
            "0.002450000000000001\n",
            "0.00019\n",
            "[0.00245  0.002312 0.002178 0.002048 0.001922 0.0018   0.001682 0.001568\n",
            " 0.001458 0.001352 0.00125  0.001152 0.001058 0.000968 0.000882]\n",
            "------\n",
            "0.0025919999999999993\n",
            "0.00019\n",
            "[0.002592 0.00245  0.002312 0.002178 0.002048 0.001922 0.0018   0.001682\n",
            " 0.001568 0.001458 0.001352 0.00125  0.001152 0.001058 0.000968]\n",
            "------\n",
            "0.0027379999999999995\n",
            "0.00019\n",
            "[0.002738 0.002592 0.00245  0.002312 0.002178 0.002048 0.001922 0.0018\n",
            " 0.001682 0.001568 0.001458 0.001352 0.00125  0.001152 0.001058]\n",
            "------\n",
            "0.002888\n",
            "0.00019\n",
            "[0.002888 0.002738 0.002592 0.00245  0.002312 0.002178 0.002048 0.001922\n",
            " 0.0018   0.001682 0.001568 0.001458 0.001352 0.00125  0.001152]\n",
            "------\n",
            "0.003042000000000001\n",
            "0.00019\n",
            "[0.003042 0.002888 0.002738 0.002592 0.00245  0.002312 0.002178 0.002048\n",
            " 0.001922 0.0018   0.001682 0.001568 0.001458 0.001352 0.00125 ]\n",
            "------\n",
            "0.003200000000000001\n",
            "0.00019\n",
            "[0.0032   0.003042 0.002888 0.002738 0.002592 0.00245  0.002312 0.002178\n",
            " 0.002048 0.001922 0.0018   0.001682 0.001568 0.001458 0.001352]\n",
            "------\n",
            "0.003362000000000001\n",
            "0.00019\n",
            "[0.003362 0.0032   0.003042 0.002888 0.002738 0.002592 0.00245  0.002312\n",
            " 0.002178 0.002048 0.001922 0.0018   0.001682 0.001568 0.001458]\n",
            "------\n",
            "0.003528000000000001\n",
            "0.00019\n",
            "[0.003528 0.003362 0.0032   0.003042 0.002888 0.002738 0.002592 0.00245\n",
            " 0.002312 0.002178 0.002048 0.001922 0.0018   0.001682 0.001568]\n",
            "------\n",
            "0.0036979999999999995\n",
            "0.00019\n",
            "[0.003698 0.003528 0.003362 0.0032   0.003042 0.002888 0.002738 0.002592\n",
            " 0.00245  0.002312 0.002178 0.002048 0.001922 0.0018   0.001682]\n",
            "------\n",
            "0.003872\n",
            "0.00019\n",
            "[0.003872 0.003698 0.003528 0.003362 0.0032   0.003042 0.002888 0.002738\n",
            " 0.002592 0.00245  0.002312 0.002178 0.002048 0.001922 0.0018  ]\n",
            "------\n",
            "0.004049999999999999\n",
            "0.00019\n",
            "[0.00405  0.003872 0.003698 0.003528 0.003362 0.0032   0.003042 0.002888\n",
            " 0.002738 0.002592 0.00245  0.002312 0.002178 0.002048 0.001922]\n",
            "------\n"
          ]
        }
      ]
    },
    {
      "cell_type": "markdown",
      "source": [
        "### Prueba 2\n",
        "Se vuelve a probar, pero esta vez a partir de cierto punto los valores de potencia definidos para los intervalos van disminuyendo."
      ],
      "metadata": {
        "id": "8xMaF0mGO_q8"
      }
    },
    {
      "cell_type": "code",
      "source": [
        "generate_and_save_complex_numbers(\"complex_numbers1min_2.txt\", num_lines=200*15*3, type='probar1min_2')"
      ],
      "metadata": {
        "id": "WMQ2q_QE5qVB"
      },
      "execution_count": null,
      "outputs": []
    },
    {
      "cell_type": "code",
      "source": [
        "#Cada línea tendrá guardada 1000 muestras que equivalen a 20ms.\n",
        "with open(r'complex_numbers1min_2.txt') as f:\n",
        "    lines = f.readlines()"
      ],
      "metadata": {
        "id": "WTFlnirBP30K"
      },
      "execution_count": null,
      "outputs": []
    },
    {
      "cell_type": "code",
      "source": [
        "cantidad = len(lines) # Se carga en \"cantidad\" la cantidad de líneas\n",
        "umbral_anterior = 2e-14\n",
        "subintervalos = 0\n",
        "N_muestras = []\n",
        "pow_4s = np.zeros(200)\n",
        "pow_minuto = np.full(15, 2e-14) #Se inicializa el arreglo para que el umbral de -107dBm=2e-14\n",
        "arr_pow_actual = np.full(50, 2e-14) #Se inicializa el arreglo que determina la potencia actual con el promedio. Se toma un promedio movil del\n",
        "                                    #ultimo ms (50 muestras) iniciando con una potencia inicial igual al umbral minimo\n",
        "N = 1000\n",
        "for i in range(0, cantidad):\n",
        "  umbral_anterior, N_muestras, subintervalos, pow_4s, pow_minuto, arr_pow_actual, N = potumbral_muestra(complex(lines[i]), umbral_anterior, N_muestras, subintervalos, pow_4s, pow_minuto, arr_pow_actual, N)"
      ],
      "metadata": {
        "colab": {
          "base_uri": "https://localhost:8080/"
        },
        "id": "314MlKs7P6uk",
        "outputId": "b314eedb-f81d-4ee2-e271-38480ccd23a2"
      },
      "execution_count": null,
      "outputs": [
        {
          "output_type": "stream",
          "name": "stdout",
          "text": [
            "2.0000000000000003e-06\n",
            "2e-14\n",
            "[2.e-06 2.e-14 2.e-14 2.e-14 2.e-14 2.e-14 2.e-14 2.e-14 2.e-14 2.e-14\n",
            " 2.e-14 2.e-14 2.e-14 2.e-14 2.e-14]\n",
            "------\n",
            "8.000000000000001e-06\n",
            "2e-14\n",
            "[8.e-06 2.e-06 2.e-14 2.e-14 2.e-14 2.e-14 2.e-14 2.e-14 2.e-14 2.e-14\n",
            " 2.e-14 2.e-14 2.e-14 2.e-14 2.e-14]\n",
            "------\n",
            "1.8e-05\n",
            "2e-14\n",
            "[1.8e-05 8.0e-06 2.0e-06 2.0e-14 2.0e-14 2.0e-14 2.0e-14 2.0e-14 2.0e-14\n",
            " 2.0e-14 2.0e-14 2.0e-14 2.0e-14 2.0e-14 2.0e-14]\n",
            "------\n",
            "3.2000000000000005e-05\n",
            "2e-14\n",
            "[3.2e-05 1.8e-05 8.0e-06 2.0e-06 2.0e-14 2.0e-14 2.0e-14 2.0e-14 2.0e-14\n",
            " 2.0e-14 2.0e-14 2.0e-14 2.0e-14 2.0e-14 2.0e-14]\n",
            "------\n",
            "5.0000000000000016e-05\n",
            "2e-14\n",
            "[5.0e-05 3.2e-05 1.8e-05 8.0e-06 2.0e-06 2.0e-14 2.0e-14 2.0e-14 2.0e-14\n",
            " 2.0e-14 2.0e-14 2.0e-14 2.0e-14 2.0e-14 2.0e-14]\n",
            "------\n",
            "7.2e-05\n",
            "2e-14\n",
            "[7.2e-05 5.0e-05 3.2e-05 1.8e-05 8.0e-06 2.0e-06 2.0e-14 2.0e-14 2.0e-14\n",
            " 2.0e-14 2.0e-14 2.0e-14 2.0e-14 2.0e-14 2.0e-14]\n",
            "------\n",
            "9.800000000000001e-05\n",
            "2e-14\n",
            "[9.8e-05 7.2e-05 5.0e-05 3.2e-05 1.8e-05 8.0e-06 2.0e-06 2.0e-14 2.0e-14\n",
            " 2.0e-14 2.0e-14 2.0e-14 2.0e-14 2.0e-14 2.0e-14]\n",
            "------\n",
            "0.00012800000000000002\n",
            "2e-14\n",
            "[1.28e-04 9.80e-05 7.20e-05 5.00e-05 3.20e-05 1.80e-05 8.00e-06 2.00e-06\n",
            " 2.00e-14 2.00e-14 2.00e-14 2.00e-14 2.00e-14 2.00e-14 2.00e-14]\n",
            "------\n",
            "0.00016199999999999995\n",
            "2e-14\n",
            "[1.62e-04 1.28e-04 9.80e-05 7.20e-05 5.00e-05 3.20e-05 1.80e-05 8.00e-06\n",
            " 2.00e-06 2.00e-14 2.00e-14 2.00e-14 2.00e-14 2.00e-14 2.00e-14]\n",
            "------\n",
            "0.00020000000000000006\n",
            "2e-14\n",
            "[2.00e-04 1.62e-04 1.28e-04 9.80e-05 7.20e-05 5.00e-05 3.20e-05 1.80e-05\n",
            " 8.00e-06 2.00e-06 2.00e-14 2.00e-14 2.00e-14 2.00e-14 2.00e-14]\n",
            "------\n",
            "0.000242\n",
            "2e-14\n",
            "[2.42e-04 2.00e-04 1.62e-04 1.28e-04 9.80e-05 7.20e-05 5.00e-05 3.20e-05\n",
            " 1.80e-05 8.00e-06 2.00e-06 2.00e-14 2.00e-14 2.00e-14 2.00e-14]\n",
            "------\n",
            "0.000288\n",
            "2e-14\n",
            "[2.88e-04 2.42e-04 2.00e-04 1.62e-04 1.28e-04 9.80e-05 7.20e-05 5.00e-05\n",
            " 3.20e-05 1.80e-05 8.00e-06 2.00e-06 2.00e-14 2.00e-14 2.00e-14]\n",
            "------\n",
            "0.00033800000000000003\n",
            "2e-14\n",
            "[3.38e-04 2.88e-04 2.42e-04 2.00e-04 1.62e-04 1.28e-04 9.80e-05 7.20e-05\n",
            " 5.00e-05 3.20e-05 1.80e-05 8.00e-06 2.00e-06 2.00e-14 2.00e-14]\n",
            "------\n",
            "0.00039200000000000004\n",
            "2e-14\n",
            "[3.92e-04 3.38e-04 2.88e-04 2.42e-04 2.00e-04 1.62e-04 1.28e-04 9.80e-05\n",
            " 7.20e-05 5.00e-05 3.20e-05 1.80e-05 8.00e-06 2.00e-06 2.00e-14]\n",
            "------\n",
            "0.0004499999999999999\n",
            "2.0000000000000003e-06\n",
            "[4.50e-04 3.92e-04 3.38e-04 2.88e-04 2.42e-04 2.00e-04 1.62e-04 1.28e-04\n",
            " 9.80e-05 7.20e-05 5.00e-05 3.20e-05 1.80e-05 8.00e-06 2.00e-06]\n",
            "------\n",
            "0.0005120000000000001\n",
            "8.000000000000001e-06\n",
            "[5.12e-04 4.50e-04 3.92e-04 3.38e-04 2.88e-04 2.42e-04 2.00e-04 1.62e-04\n",
            " 1.28e-04 9.80e-05 7.20e-05 5.00e-05 3.20e-05 1.80e-05 8.00e-06]\n",
            "------\n",
            "0.0005780000000000001\n",
            "1.8e-05\n",
            "[5.78e-04 5.12e-04 4.50e-04 3.92e-04 3.38e-04 2.88e-04 2.42e-04 2.00e-04\n",
            " 1.62e-04 1.28e-04 9.80e-05 7.20e-05 5.00e-05 3.20e-05 1.80e-05]\n",
            "------\n",
            "0.0006479999999999998\n",
            "3.2000000000000005e-05\n",
            "[6.48e-04 5.78e-04 5.12e-04 4.50e-04 3.92e-04 3.38e-04 2.88e-04 2.42e-04\n",
            " 2.00e-04 1.62e-04 1.28e-04 9.80e-05 7.20e-05 5.00e-05 3.20e-05]\n",
            "------\n",
            "0.000722\n",
            "5.0000000000000016e-05\n",
            "[7.22e-04 6.48e-04 5.78e-04 5.12e-04 4.50e-04 3.92e-04 3.38e-04 2.88e-04\n",
            " 2.42e-04 2.00e-04 1.62e-04 1.28e-04 9.80e-05 7.20e-05 5.00e-05]\n",
            "------\n",
            "0.0008000000000000003\n",
            "7.2e-05\n",
            "[8.00e-04 7.22e-04 6.48e-04 5.78e-04 5.12e-04 4.50e-04 3.92e-04 3.38e-04\n",
            " 2.88e-04 2.42e-04 2.00e-04 1.62e-04 1.28e-04 9.80e-05 7.20e-05]\n",
            "------\n",
            "0.0008820000000000003\n",
            "9.800000000000001e-05\n",
            "[8.82e-04 8.00e-04 7.22e-04 6.48e-04 5.78e-04 5.12e-04 4.50e-04 3.92e-04\n",
            " 3.38e-04 2.88e-04 2.42e-04 2.00e-04 1.62e-04 1.28e-04 9.80e-05]\n",
            "------\n",
            "0.000968\n",
            "0.00012800000000000002\n",
            "[0.000968 0.000882 0.0008   0.000722 0.000648 0.000578 0.000512 0.00045\n",
            " 0.000392 0.000338 0.000288 0.000242 0.0002   0.000162 0.000128]\n",
            "------\n",
            "0.0010580000000000003\n",
            "0.00016199999999999995\n",
            "[0.001058 0.000968 0.000882 0.0008   0.000722 0.000648 0.000578 0.000512\n",
            " 0.00045  0.000392 0.000338 0.000288 0.000242 0.0002   0.000162]\n",
            "------\n",
            "0.000968\n",
            "0.00019\n",
            "[0.000968 0.001058 0.000968 0.000882 0.0008   0.000722 0.000648 0.000578\n",
            " 0.000512 0.00045  0.000392 0.000338 0.000288 0.000242 0.0002  ]\n",
            "------\n",
            "0.0008820000000000003\n",
            "0.00019\n",
            "[0.000882 0.000968 0.001058 0.000968 0.000882 0.0008   0.000722 0.000648\n",
            " 0.000578 0.000512 0.00045  0.000392 0.000338 0.000288 0.000242]\n",
            "------\n",
            "0.0008000000000000003\n",
            "0.00019\n",
            "[0.0008   0.000882 0.000968 0.001058 0.000968 0.000882 0.0008   0.000722\n",
            " 0.000648 0.000578 0.000512 0.00045  0.000392 0.000338 0.000288]\n",
            "------\n",
            "0.000722\n",
            "0.00019\n",
            "[0.000722 0.0008   0.000882 0.000968 0.001058 0.000968 0.000882 0.0008\n",
            " 0.000722 0.000648 0.000578 0.000512 0.00045  0.000392 0.000338]\n",
            "------\n",
            "0.0006479999999999998\n",
            "0.00019\n",
            "[0.000648 0.000722 0.0008   0.000882 0.000968 0.001058 0.000968 0.000882\n",
            " 0.0008   0.000722 0.000648 0.000578 0.000512 0.00045  0.000392]\n",
            "------\n",
            "0.0005780000000000001\n",
            "0.00019\n",
            "[0.000578 0.000648 0.000722 0.0008   0.000882 0.000968 0.001058 0.000968\n",
            " 0.000882 0.0008   0.000722 0.000648 0.000578 0.000512 0.00045 ]\n",
            "------\n",
            "0.0005120000000000001\n",
            "0.00019\n",
            "[0.000512 0.000578 0.000648 0.000722 0.0008   0.000882 0.000968 0.001058\n",
            " 0.000968 0.000882 0.0008   0.000722 0.000648 0.000578 0.000512]\n",
            "------\n",
            "0.0004499999999999999\n",
            "0.00019\n",
            "[0.00045  0.000512 0.000578 0.000648 0.000722 0.0008   0.000882 0.000968\n",
            " 0.001058 0.000968 0.000882 0.0008   0.000722 0.000648 0.000578]\n",
            "------\n",
            "0.00039200000000000004\n",
            "0.00019\n",
            "[0.000392 0.00045  0.000512 0.000578 0.000648 0.000722 0.0008   0.000882\n",
            " 0.000968 0.001058 0.000968 0.000882 0.0008   0.000722 0.000648]\n",
            "------\n",
            "0.00033800000000000003\n",
            "0.00019\n",
            "[0.000338 0.000392 0.00045  0.000512 0.000578 0.000648 0.000722 0.0008\n",
            " 0.000882 0.000968 0.001058 0.000968 0.000882 0.0008   0.000722]\n",
            "------\n",
            "0.000288\n",
            "0.00019\n",
            "[0.000288 0.000338 0.000392 0.00045  0.000512 0.000578 0.000648 0.000722\n",
            " 0.0008   0.000882 0.000968 0.001058 0.000968 0.000882 0.0008  ]\n",
            "------\n",
            "0.000242\n",
            "0.00019\n",
            "[0.000242 0.000288 0.000338 0.000392 0.00045  0.000512 0.000578 0.000648\n",
            " 0.000722 0.0008   0.000882 0.000968 0.001058 0.000968 0.000882]\n",
            "------\n",
            "0.00020000000000000006\n",
            "0.00019\n",
            "[0.0002   0.000242 0.000288 0.000338 0.000392 0.00045  0.000512 0.000578\n",
            " 0.000648 0.000722 0.0008   0.000882 0.000968 0.001058 0.000968]\n",
            "------\n",
            "0.00016199999999999995\n",
            "0.00016199999999999995\n",
            "[0.000162 0.0002   0.000242 0.000288 0.000338 0.000392 0.00045  0.000512\n",
            " 0.000578 0.000648 0.000722 0.0008   0.000882 0.000968 0.001058]\n",
            "------\n",
            "0.00012800000000000002\n",
            "0.00012800000000000002\n",
            "[0.000128 0.000162 0.0002   0.000242 0.000288 0.000338 0.000392 0.00045\n",
            " 0.000512 0.000578 0.000648 0.000722 0.0008   0.000882 0.000968]\n",
            "------\n",
            "9.800000000000001e-05\n",
            "9.800000000000001e-05\n",
            "[9.80e-05 1.28e-04 1.62e-04 2.00e-04 2.42e-04 2.88e-04 3.38e-04 3.92e-04\n",
            " 4.50e-04 5.12e-04 5.78e-04 6.48e-04 7.22e-04 8.00e-04 8.82e-04]\n",
            "------\n",
            "7.2e-05\n",
            "7.2e-05\n",
            "[7.20e-05 9.80e-05 1.28e-04 1.62e-04 2.00e-04 2.42e-04 2.88e-04 3.38e-04\n",
            " 3.92e-04 4.50e-04 5.12e-04 5.78e-04 6.48e-04 7.22e-04 8.00e-04]\n",
            "------\n",
            "5.0000000000000016e-05\n",
            "5.0000000000000016e-05\n",
            "[5.00e-05 7.20e-05 9.80e-05 1.28e-04 1.62e-04 2.00e-04 2.42e-04 2.88e-04\n",
            " 3.38e-04 3.92e-04 4.50e-04 5.12e-04 5.78e-04 6.48e-04 7.22e-04]\n",
            "------\n",
            "3.2000000000000005e-05\n",
            "3.2000000000000005e-05\n",
            "[3.20e-05 5.00e-05 7.20e-05 9.80e-05 1.28e-04 1.62e-04 2.00e-04 2.42e-04\n",
            " 2.88e-04 3.38e-04 3.92e-04 4.50e-04 5.12e-04 5.78e-04 6.48e-04]\n",
            "------\n",
            "1.8e-05\n",
            "1.8e-05\n",
            "[1.80e-05 3.20e-05 5.00e-05 7.20e-05 9.80e-05 1.28e-04 1.62e-04 2.00e-04\n",
            " 2.42e-04 2.88e-04 3.38e-04 3.92e-04 4.50e-04 5.12e-04 5.78e-04]\n",
            "------\n",
            "8.000000000000001e-06\n",
            "8.000000000000001e-06\n",
            "[8.00e-06 1.80e-05 3.20e-05 5.00e-05 7.20e-05 9.80e-05 1.28e-04 1.62e-04\n",
            " 2.00e-04 2.42e-04 2.88e-04 3.38e-04 3.92e-04 4.50e-04 5.12e-04]\n",
            "------\n",
            "2.0000000000000003e-06\n",
            "2.0000000000000003e-06\n",
            "[2.00e-06 8.00e-06 1.80e-05 3.20e-05 5.00e-05 7.20e-05 9.80e-05 1.28e-04\n",
            " 1.62e-04 2.00e-04 2.42e-04 2.88e-04 3.38e-04 3.92e-04 4.50e-04]\n",
            "------\n"
          ]
        }
      ]
    },
    {
      "cell_type": "code",
      "source": [],
      "metadata": {
        "id": "McYAb44xQBZm"
      },
      "execution_count": null,
      "outputs": []
    }
  ]
}